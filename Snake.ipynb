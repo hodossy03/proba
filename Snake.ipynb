{
 "cells": [
  {
   "cell_type": "markdown",
   "metadata": {},
   "source": [
    "# Snake programozási feladat\n",
    "\n",
    "### Feladat\n",
    "\n",
    "* mozgó kígyó, mely kaját eszik, és ezzel növekszik\n",
    "* ha a kígyó elhagyja a pályát, a szemközti oldal megfelelő pontjából folytatja a mozgását\n",
    "* a játék addig tart, amíg a kigyó önmagával nem ütközik, vagy a teljes képernyőt betölti\n",
    "\n",
    "### Technikai adatok\n",
    "\n",
    "* pálya mérete paraméterezhető\n",
    "* kígyó mozgása egyre gyorsul\n",
    "* megevett kaja pontot ér\n"
   ]
  }
 ],
 "metadata": {
  "kernelspec": {
   "display_name": "Python 3",
   "language": "python",
   "name": "python3"
  },
  "language_info": {
   "codemirror_mode": {
    "name": "ipython",
    "version": 3
   },
   "file_extension": ".py",
   "mimetype": "text/x-python",
   "name": "python",
   "nbconvert_exporter": "python",
   "pygments_lexer": "ipython3",
   "version": "3.6.5"
  }
 },
 "nbformat": 4,
 "nbformat_minor": 2
}
